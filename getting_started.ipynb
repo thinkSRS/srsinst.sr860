{
 "cells": [
  {
   "cell_type": "markdown",
   "metadata": {},
   "source": [
    "# Getting Started with the srsinst.sr860 Python Driver\n",
    "\n",
    "This Jupyter Notebook follows along with the Getting Started chapter of the SR860 Operation Manual, and should help you get started using our srsinst.sr860 Python Instrument driver to control your lock-in amplifier remotely"
   ]
  },
  {
   "cell_type": "code",
   "execution_count": 2,
   "metadata": {},
   "outputs": [],
   "source": [
    "from srsinst.sr860 import SR860\n",
    "\n",
    "# only required for USB or GPIB communication\n",
    "import pyvisa as visa "
   ]
  },
  {
   "cell_type": "markdown",
   "metadata": {},
   "source": [
    "# Establishing a Connection\n",
    "\n",
    "You only need to execute one of the following instantiation and connection cells (to connect via the 'serial', 'vxi11', or 'visa' (USB or GPIB) interface), depending on the connection you have made to your instrument. \n",
    "\n",
    "Make sure to adjust the address of your device appropriately."
   ]
  },
  {
   "cell_type": "code",
   "execution_count": 3,
   "metadata": {},
   "outputs": [],
   "source": [
    "lockin = SR860('serial', 'COM7')"
   ]
  },
  {
   "cell_type": "code",
   "execution_count": 8,
   "metadata": {},
   "outputs": [
    {
     "name": "stdout",
     "output_type": "stream",
     "text": [
      "Stanford_Research_Systems,SR860,002819,v1.51\n"
     ]
    }
   ],
   "source": [
    "lockin = SR860('vxi11', '172.25.129.22')"
   ]
  },
  {
   "cell_type": "markdown",
   "metadata": {},
   "source": [
    "Or establish a connection with USB or GPIB, both of which utilize `PyVisa` and use the `'visa'` string to make the connection"
   ]
  },
  {
   "cell_type": "code",
   "execution_count": 4,
   "metadata": {},
   "outputs": [
    {
     "data": {
      "text/plain": [
       "('USB0::0xB506::0x2000::002819::INSTR',\n",
       " 'ASRL3::INSTR',\n",
       " 'ASRL5::INSTR',\n",
       " 'ASRL6::INSTR',\n",
       " 'GPIB0::4::INSTR')"
      ]
     },
     "execution_count": 4,
     "metadata": {},
     "output_type": "execute_result"
    }
   ],
   "source": [
    "visa.ResourceManager().list_resources()"
   ]
  },
  {
   "cell_type": "code",
   "execution_count": 6,
   "metadata": {},
   "outputs": [],
   "source": [
    "lockin = SR860('visa', 'GPIB0::4::INSTR')"
   ]
  },
  {
   "cell_type": "code",
   "execution_count": 10,
   "metadata": {},
   "outputs": [],
   "source": [
    "lockin = SR860('visa', 'USB0::0xB506::0x2000::002819::INSTR')"
   ]
  },
  {
   "cell_type": "markdown",
   "metadata": {},
   "source": [
    "Once the connection is established, this notebook is designed to be executed top-to-bottom.\n",
    "\n",
    "Confirm you have connected to the instrument and can communicate!"
   ]
  },
  {
   "cell_type": "code",
   "execution_count": 7,
   "metadata": {},
   "outputs": [
    {
     "data": {
      "text/plain": [
       "('SR860', '002819', 'v1.51')"
      ]
     },
     "execution_count": 7,
     "metadata": {},
     "output_type": "execute_result"
    }
   ],
   "source": [
    "lockin.check_id()"
   ]
  },
  {
   "cell_type": "code",
   "execution_count": 12,
   "metadata": {},
   "outputs": [
    {
     "name": "stdout",
     "output_type": "stream",
     "text": [
      "Frequency: 1.000000e+03 Hz\n",
      " Phase: 0.118317 deg\n",
      " Amplitude: 0.0500 V\n",
      " DC level: 0.0000 V\n",
      " Harmonic: 1\n",
      "\n",
      "OK\n"
     ]
    }
   ],
   "source": [
    "print(lockin.get_status())"
   ]
  },
  {
   "cell_type": "markdown",
   "metadata": {},
   "source": [
    "# Inspect the lockin available components, commands, and methods"
   ]
  },
  {
   "cell_type": "code",
   "execution_count": 67,
   "metadata": {},
   "outputs": [
    {
     "data": {
      "text/plain": [
       "dict_keys(['components', 'commands', 'methods'])"
      ]
     },
     "execution_count": 67,
     "metadata": {},
     "output_type": "execute_result"
    }
   ],
   "source": [
    "lockin.dir.keys()"
   ]
  },
  {
   "cell_type": "code",
   "execution_count": 68,
   "metadata": {},
   "outputs": [
    {
     "data": {
      "text/plain": [
       "{'ref': 'instance of Reference',\n",
       " 'signal': 'instance of Signal',\n",
       " 'output': 'instance of Output',\n",
       " 'aux': 'instance of Aux',\n",
       " 'auto': 'instance of Auto',\n",
       " 'display': 'instance of Display',\n",
       " 'chart': 'instance of Chart',\n",
       " 'fft': 'instance of FFT',\n",
       " 'scan': 'instance of Scan',\n",
       " 'data': 'instance of DataTransfer',\n",
       " 'capture': 'instance of DataCapture',\n",
       " 'stream': 'instance of DataStream',\n",
       " 'system': 'instance of System',\n",
       " 'interface': 'instance of Interface',\n",
       " 'status': 'instance of Status'}"
      ]
     },
     "execution_count": 68,
     "metadata": {},
     "output_type": "execute_result"
    }
   ],
   "source": [
    "lockin.dir['components']"
   ]
  },
  {
   "cell_type": "code",
   "execution_count": 69,
   "metadata": {},
   "outputs": [
    {
     "data": {
      "text/plain": [
       "{}"
      ]
     },
     "execution_count": 69,
     "metadata": {},
     "output_type": "execute_result"
    }
   ],
   "source": [
    "# (no available commands at the top instrument level)\n",
    "lockin.dir['commands']"
   ]
  },
  {
   "cell_type": "code",
   "execution_count": 70,
   "metadata": {},
   "outputs": [
    {
     "data": {
      "text/plain": [
       "['connect',\n",
       " 'check_id',\n",
       " 'reset',\n",
       " 'get_status',\n",
       " 'disconnect',\n",
       " 'is_connected',\n",
       " 'set_term_char',\n",
       " 'get_term_char',\n",
       " 'send',\n",
       " 'query_text',\n",
       " 'query_int',\n",
       " 'query_float',\n",
       " 'get_available_interfaces',\n",
       " 'get_info',\n",
       " 'handle_command',\n",
       " 'connect_with_parameter_string']"
      ]
     },
     "execution_count": 70,
     "metadata": {},
     "output_type": "execute_result"
    }
   ],
   "source": [
    "lockin.dir['methods']"
   ]
  },
  {
   "cell_type": "markdown",
   "metadata": {},
   "source": [
    "# Getting Started\n",
    "\n",
    "Be sure to connect the lock-in's Sine Out to the Input A, as instructed in the Getting Started guide for \"The Basic Lock-in\""
   ]
  },
  {
   "cell_type": "markdown",
   "metadata": {},
   "source": [
    "Start with standard settings"
   ]
  },
  {
   "cell_type": "code",
   "execution_count": 15,
   "metadata": {},
   "outputs": [],
   "source": [
    "lockin.reset()"
   ]
  },
  {
   "cell_type": "markdown",
   "metadata": {},
   "source": [
    "## Sine Out Amplitude"
   ]
  },
  {
   "cell_type": "code",
   "execution_count": 16,
   "metadata": {},
   "outputs": [
    {
     "data": {
      "text/plain": [
       "0.0"
      ]
     },
     "execution_count": 16,
     "metadata": {},
     "output_type": "execute_result"
    }
   ],
   "source": [
    "lockin.ref.sine_out_amplitude"
   ]
  },
  {
   "cell_type": "code",
   "execution_count": 17,
   "metadata": {},
   "outputs": [
    {
     "data": {
      "text/plain": [
       "0.5"
      ]
     },
     "execution_count": 17,
     "metadata": {},
     "output_type": "execute_result"
    }
   ],
   "source": [
    "lockin.ref.sine_out_amplitude = 500e-3\n",
    "lockin.ref.sine_out_amplitude"
   ]
  },
  {
   "cell_type": "markdown",
   "metadata": {},
   "source": [
    "## Query measured values"
   ]
  },
  {
   "cell_type": "markdown",
   "metadata": {},
   "source": [
    "First, learn about the \"data\" component. Just as the top-level lockin has a `dir` method, this can be used on any of the subcomponents to learn about the `commands` and `methods` therein."
   ]
  },
  {
   "cell_type": "code",
   "execution_count": 18,
   "metadata": {},
   "outputs": [
    {
     "data": {
      "text/plain": [
       "{'components': {},\n",
       " 'commands': {'channel_config': ('DictIndexCommand', 'CDSP'),\n",
       "  'channel_value': ('FloatIndexGetCommand', 'OUTR'),\n",
       "  'value': ('FloatIndexGetCommand', 'OUTP')},\n",
       " 'methods': ['get_values', 'get_channel_values']}"
      ]
     },
     "execution_count": 18,
     "metadata": {},
     "output_type": "execute_result"
    }
   ],
   "source": [
    "lockin.data.dir"
   ]
  },
  {
   "cell_type": "markdown",
   "metadata": {},
   "source": [
    "Then learn how to use the `value` command using the `get_command_info()` helper method."
   ]
  },
  {
   "cell_type": "code",
   "execution_count": 19,
   "metadata": {},
   "outputs": [
    {
     "data": {
      "text/plain": [
       "{'command class': 'FloatIndexGetCommand',\n",
       " 'raw remote command': 'OUTP',\n",
       " 'set_dict': None,\n",
       " 'get_dict': None,\n",
       " 'index_dict': {'X': 0,\n",
       "  'Y': 1,\n",
       "  'R': 2,\n",
       "  'Theta': 3,\n",
       "  'aux in 1': 4,\n",
       "  'aux in 2': 5,\n",
       "  'aux in 3': 6,\n",
       "  'aux in 4': 7,\n",
       "  'X noise': 8,\n",
       "  'Y noise': 9,\n",
       "  'aux out 1': 10,\n",
       "  'aux out 2': 11,\n",
       "  'phase': 12,\n",
       "  'amplitude': 13,\n",
       "  'DC level': 14,\n",
       "  'int. freq.': 15,\n",
       "  'ext. freq.': 16}}"
      ]
     },
     "execution_count": 19,
     "metadata": {},
     "output_type": "execute_result"
    }
   ],
   "source": [
    "lockin.data.get_command_info('value')"
   ]
  },
  {
   "cell_type": "markdown",
   "metadata": {},
   "source": [
    "Query individual values"
   ]
  },
  {
   "cell_type": "code",
   "execution_count": 20,
   "metadata": {},
   "outputs": [
    {
     "data": {
      "text/plain": [
       "0.50329655409"
      ]
     },
     "execution_count": 20,
     "metadata": {},
     "output_type": "execute_result"
    }
   ],
   "source": [
    "lockin.data.value['X']"
   ]
  },
  {
   "cell_type": "code",
   "execution_count": 21,
   "metadata": {},
   "outputs": [
    {
     "data": {
      "text/plain": [
       "-0.00049118528841"
      ]
     },
     "execution_count": 21,
     "metadata": {},
     "output_type": "execute_result"
    }
   ],
   "source": [
    "lockin.data.value['Y']"
   ]
  },
  {
   "cell_type": "markdown",
   "metadata": {},
   "source": [
    "The above is equivalent to:"
   ]
  },
  {
   "cell_type": "code",
   "execution_count": 22,
   "metadata": {},
   "outputs": [
    {
     "data": {
      "text/plain": [
       "0.50328469276"
      ]
     },
     "execution_count": 22,
     "metadata": {},
     "output_type": "execute_result"
    }
   ],
   "source": [
    "lockin.data.value[0]"
   ]
  },
  {
   "cell_type": "code",
   "execution_count": 23,
   "metadata": {},
   "outputs": [
    {
     "data": {
      "text/plain": [
       "-0.00049908139044"
      ]
     },
     "execution_count": 23,
     "metadata": {},
     "output_type": "execute_result"
    }
   ],
   "source": [
    "lockin.data.value[1]"
   ]
  },
  {
   "cell_type": "markdown",
   "metadata": {},
   "source": [
    "Query multiple values simultaneously"
   ]
  },
  {
   "cell_type": "code",
   "execution_count": 24,
   "metadata": {},
   "outputs": [
    {
     "data": {
      "text/plain": [
       "[0.50327980518, -0.00050187174929]"
      ]
     },
     "execution_count": 24,
     "metadata": {},
     "output_type": "execute_result"
    }
   ],
   "source": [
    "lockin.data.get_values('X','Y')"
   ]
  },
  {
   "cell_type": "code",
   "execution_count": 25,
   "metadata": {},
   "outputs": [
    {
     "data": {
      "text/plain": [
       "[0.50328660011, -0.00050557876239, 0.50328683853, -0.057556293905]"
      ]
     },
     "execution_count": 25,
     "metadata": {},
     "output_type": "execute_result"
    }
   ],
   "source": [
    "lockin.data.get_channel_values()"
   ]
  },
  {
   "cell_type": "markdown",
   "metadata": {},
   "source": [
    "To determine what is returned in the list of values for `get_channel_values()`, we can use the `channel_config` command"
   ]
  },
  {
   "cell_type": "code",
   "execution_count": 26,
   "metadata": {},
   "outputs": [
    {
     "name": "stdout",
     "output_type": "stream",
     "text": [
      "['X', 'Y', 'R', 'Theta']\n"
     ]
    }
   ],
   "source": [
    "ch0 = lockin.data.channel_config[0]\n",
    "ch1 = lockin.data.channel_config[1]\n",
    "ch2 = lockin.data.channel_config[2]\n",
    "ch3 = lockin.data.channel_config[3]\n",
    "print([ch0, ch1, ch2, ch3])"
   ]
  },
  {
   "cell_type": "markdown",
   "metadata": {},
   "source": [
    "## Phase and Frequency"
   ]
  },
  {
   "cell_type": "markdown",
   "metadata": {},
   "source": [
    "First, query the phase. This is a \"command\", so we only need to provide the command name (no parentheses needed)"
   ]
  },
  {
   "cell_type": "code",
   "execution_count": 27,
   "metadata": {},
   "outputs": [
    {
     "data": {
      "text/plain": [
       "0.0"
      ]
     },
     "execution_count": 27,
     "metadata": {},
     "output_type": "execute_result"
    }
   ],
   "source": [
    "lockin.ref.phase"
   ]
  },
  {
   "cell_type": "code",
   "execution_count": 28,
   "metadata": {},
   "outputs": [],
   "source": [
    "lockin.ref.auto_phase()"
   ]
  },
  {
   "cell_type": "markdown",
   "metadata": {},
   "source": [
    "Note that `auto_phase()` is a *method* and not a *command*, so it requires the parentheses to execute. Following the `auto_phase()` method, the phase should have adjusted slightly."
   ]
  },
  {
   "cell_type": "code",
   "execution_count": 29,
   "metadata": {},
   "outputs": [
    {
     "data": {
      "text/plain": [
       "-0.057948958129"
      ]
     },
     "execution_count": 29,
     "metadata": {},
     "output_type": "execute_result"
    }
   ],
   "source": [
    "lockin.ref.phase"
   ]
  },
  {
   "cell_type": "code",
   "execution_count": 30,
   "metadata": {},
   "outputs": [
    {
     "data": {
      "text/plain": [
       "89.942050958"
      ]
     },
     "execution_count": 30,
     "metadata": {},
     "output_type": "execute_result"
    }
   ],
   "source": [
    "lockin.ref.phase += 90\n",
    "lockin.ref.phase"
   ]
  },
  {
   "cell_type": "markdown",
   "metadata": {},
   "source": [
    "Following a phase rotation of 90deg, the signal should be shifted to Y"
   ]
  },
  {
   "cell_type": "code",
   "execution_count": 31,
   "metadata": {},
   "outputs": [
    {
     "data": {
      "text/plain": [
       "[-2.4314981601e-06, -0.50320702791]"
      ]
     },
     "execution_count": 31,
     "metadata": {},
     "output_type": "execute_result"
    }
   ],
   "source": [
    "lockin.data.get_values('X','Y')"
   ]
  },
  {
   "cell_type": "code",
   "execution_count": 32,
   "metadata": {},
   "outputs": [],
   "source": [
    "lockin.ref.frequency = 1e3"
   ]
  },
  {
   "cell_type": "markdown",
   "metadata": {},
   "source": [
    "## Signal Overload and Input Range"
   ]
  },
  {
   "cell_type": "markdown",
   "metadata": {},
   "source": [
    "Reduce the output amplitude"
   ]
  },
  {
   "cell_type": "code",
   "execution_count": 33,
   "metadata": {},
   "outputs": [],
   "source": [
    "lockin.ref.sine_out_amplitude = 5e-3"
   ]
  },
  {
   "cell_type": "markdown",
   "metadata": {},
   "source": [
    "Fetch the input range before we make any changes to it. (The default should be 1 V)"
   ]
  },
  {
   "cell_type": "code",
   "execution_count": 34,
   "metadata": {},
   "outputs": [
    {
     "data": {
      "text/plain": [
       "1.0"
      ]
     },
     "execution_count": 34,
     "metadata": {},
     "output_type": "execute_result"
    }
   ],
   "source": [
    "lockin.signal.voltage_input_range"
   ]
  },
  {
   "cell_type": "code",
   "execution_count": 36,
   "metadata": {},
   "outputs": [
    {
     "data": {
      "text/plain": [
       "0.01"
      ]
     },
     "execution_count": 36,
     "metadata": {},
     "output_type": "execute_result"
    }
   ],
   "source": [
    "lockin.auto.set_range()\n",
    "lockin.signal.voltage_input_range"
   ]
  },
  {
   "cell_type": "markdown",
   "metadata": {},
   "source": [
    "Adjust the amplitude to intentionally cause an overload"
   ]
  },
  {
   "cell_type": "code",
   "execution_count": 37,
   "metadata": {},
   "outputs": [],
   "source": [
    "lockin.ref.sine_out_amplitude = 50e-3"
   ]
  },
  {
   "cell_type": "markdown",
   "metadata": {},
   "source": [
    "There are several ways to obtain the overload status"
   ]
  },
  {
   "cell_type": "code",
   "execution_count": 38,
   "metadata": {},
   "outputs": [
    {
     "data": {
      "text/plain": [
       "4"
      ]
     },
     "execution_count": 38,
     "metadata": {},
     "output_type": "execute_result"
    }
   ],
   "source": [
    "lockin.signal.strength_indicator"
   ]
  },
  {
   "cell_type": "code",
   "execution_count": 39,
   "metadata": {},
   "outputs": [
    {
     "data": {
      "text/plain": [
       "16"
      ]
     },
     "execution_count": 39,
     "metadata": {},
     "output_type": "execute_result"
    }
   ],
   "source": [
    "lockin.status.overload"
   ]
  },
  {
   "cell_type": "markdown",
   "metadata": {},
   "source": [
    "During an input overload, the auto-range function simply selects the 1 V range"
   ]
  },
  {
   "cell_type": "code",
   "execution_count": 40,
   "metadata": {},
   "outputs": [
    {
     "data": {
      "text/plain": [
       "1.0"
      ]
     },
     "execution_count": 40,
     "metadata": {},
     "output_type": "execute_result"
    }
   ],
   "source": [
    "lockin.auto.set_range()\n",
    "lockin.signal.voltage_input_range"
   ]
  },
  {
   "cell_type": "markdown",
   "metadata": {},
   "source": [
    "Make sure the previous `auto.set_range()` has cleared the overload"
   ]
  },
  {
   "cell_type": "code",
   "execution_count": 42,
   "metadata": {},
   "outputs": [
    {
     "data": {
      "text/plain": [
       "0"
      ]
     },
     "execution_count": 42,
     "metadata": {},
     "output_type": "execute_result"
    }
   ],
   "source": [
    "lockin.status.overload"
   ]
  },
  {
   "cell_type": "markdown",
   "metadata": {},
   "source": [
    "Once the overload has cleared, the auto-range can select the appropriate range"
   ]
  },
  {
   "cell_type": "code",
   "execution_count": 43,
   "metadata": {},
   "outputs": [
    {
     "data": {
      "text/plain": [
       "0.1"
      ]
     },
     "execution_count": 43,
     "metadata": {},
     "output_type": "execute_result"
    }
   ],
   "source": [
    "lockin.auto.set_range()\n",
    "lockin.signal.voltage_input_range"
   ]
  },
  {
   "cell_type": "code",
   "execution_count": 44,
   "metadata": {},
   "outputs": [
    {
     "data": {
      "text/plain": [
       "3"
      ]
     },
     "execution_count": 44,
     "metadata": {},
     "output_type": "execute_result"
    }
   ],
   "source": [
    "lockin.signal.strength_indicator"
   ]
  },
  {
   "cell_type": "markdown",
   "metadata": {},
   "source": [
    "## Sensitivity, Time Constant, and Filters"
   ]
  },
  {
   "cell_type": "code",
   "execution_count": 45,
   "metadata": {},
   "outputs": [
    {
     "data": {
      "text/plain": [
       "0.1"
      ]
     },
     "execution_count": 45,
     "metadata": {},
     "output_type": "execute_result"
    }
   ],
   "source": [
    "lockin.signal.time_constant"
   ]
  },
  {
   "cell_type": "markdown",
   "metadata": {},
   "source": [
    "If you can't see the front panel, you can get a sense of the measurement noise be querying the X noise (or Y noise). Note that the lockin noise measurements require about 200 time constants to settle.   \n",
    "\n",
    "Note: Because this section makes use of X noise measurements, quick execution of the cells in sequence one after the other may not give useful results (if cells are executed more quickly than the settling time of the noise measurement)."
   ]
  },
  {
   "cell_type": "code",
   "execution_count": 48,
   "metadata": {},
   "outputs": [
    {
     "data": {
      "text/plain": [
       "2.7102961653e-08"
      ]
     },
     "execution_count": 48,
     "metadata": {},
     "output_type": "execute_result"
    }
   ],
   "source": [
    "lockin.data.value['X noise']"
   ]
  },
  {
   "cell_type": "code",
   "execution_count": 49,
   "metadata": {},
   "outputs": [],
   "source": [
    "lockin.signal.time_constant = 300e-6"
   ]
  },
  {
   "cell_type": "code",
   "execution_count": 50,
   "metadata": {},
   "outputs": [
    {
     "data": {
      "text/plain": [
       "0.0090149240568"
      ]
     },
     "execution_count": 50,
     "metadata": {},
     "output_type": "execute_result"
    }
   ],
   "source": [
    "lockin.data.value['X noise']"
   ]
  },
  {
   "cell_type": "code",
   "execution_count": 51,
   "metadata": {},
   "outputs": [
    {
     "data": {
      "text/plain": [
       "6"
      ]
     },
     "execution_count": 51,
     "metadata": {},
     "output_type": "execute_result"
    }
   ],
   "source": [
    "lockin.signal.filter_slope"
   ]
  },
  {
   "cell_type": "code",
   "execution_count": 52,
   "metadata": {},
   "outputs": [],
   "source": [
    "lockin.signal.filter_slope = 24"
   ]
  },
  {
   "cell_type": "code",
   "execution_count": 53,
   "metadata": {},
   "outputs": [
    {
     "data": {
      "text/plain": [
       "0.00015339632228"
      ]
     },
     "execution_count": 53,
     "metadata": {},
     "output_type": "execute_result"
    }
   ],
   "source": [
    "lockin.data.value['X noise']"
   ]
  },
  {
   "cell_type": "code",
   "execution_count": 54,
   "metadata": {},
   "outputs": [],
   "source": [
    "lockin.signal.filter_slope = 6"
   ]
  },
  {
   "cell_type": "code",
   "execution_count": 55,
   "metadata": {},
   "outputs": [
    {
     "data": {
      "text/plain": [
       "'off'"
      ]
     },
     "execution_count": 55,
     "metadata": {},
     "output_type": "execute_result"
    }
   ],
   "source": [
    "lockin.signal.sync_filter"
   ]
  },
  {
   "cell_type": "code",
   "execution_count": 56,
   "metadata": {},
   "outputs": [],
   "source": [
    "lockin.signal.sync_filter = 'on'"
   ]
  },
  {
   "cell_type": "code",
   "execution_count": 57,
   "metadata": {},
   "outputs": [
    {
     "data": {
      "text/plain": [
       "4.587489002e-07"
      ]
     },
     "execution_count": 57,
     "metadata": {},
     "output_type": "execute_result"
    }
   ],
   "source": [
    "lockin.data.value['X noise']"
   ]
  },
  {
   "cell_type": "markdown",
   "metadata": {},
   "source": [
    "# Performing a Measurement Scan\n",
    "\n",
    "Let's say you want to automate data collection of measured voltage vs. DC offset (e.g. a so called differential resistance measurement: $dV/dI$ vs $I_\\mathrm{dc}$).\n",
    "\n",
    "The parameter values I've chosen here (for things like Time Constant, Sensitivity, etc.) are just guesses, and should not be interpreted as recommendations for your particular experiment.\n",
    "\n",
    "It can be difficult to know what values to set everything to programatically, so it's often easiest to set up the measurement and make adjustments on the front panel to make sure things like Sensitivity, Input Range, Time Constant, and Filter Slope are set appropriately (no overloads, but making good use of the input range; relatively fast settling time so that measurements aren't unnecessarily long, but also not too noisy; etc.). "
   ]
  },
  {
   "cell_type": "code",
   "execution_count": 58,
   "metadata": {},
   "outputs": [],
   "source": [
    "import numpy as np\n",
    "from time import sleep\n",
    "import matplotlib.pyplot as plt"
   ]
  },
  {
   "cell_type": "code",
   "execution_count": 59,
   "metadata": {},
   "outputs": [],
   "source": [
    "def set_time_constant(f_signal, N):\n",
    "    \"\"\"\n",
    "    Sets the lockin time constant to the nearest\n",
    "    valid setting for Tc > N * 1/(2*pi*f_signal)\n",
    "    \"\"\"\n",
    "\n",
    "    valid_time_constants = list(lockin.signal.get_command_info('time_constant')['set_dict'].keys())\n",
    "    tc = N*1/(2*np.pi*f_signal)\n",
    "    tc_index = np.searchsorted(valid_time_constants, tc)\n",
    "    tc = valid_time_constants[tc_index]\n",
    "    print(f'Tc = {tc} s')\n",
    "    lockin.signal.time_constant = tc\n",
    "    "
   ]
  },
  {
   "cell_type": "markdown",
   "metadata": {},
   "source": [
    "## Initialize the SR860"
   ]
  },
  {
   "cell_type": "code",
   "execution_count": 60,
   "metadata": {},
   "outputs": [],
   "source": [
    "# Configure the Sine Out (excitation)\n",
    "f_signal = 211.37\n",
    "lockin.ref.frequency = f_signal\n",
    "lockin.ref.phase = 0\n",
    "lockin.ref.sine_out_amplitude = 50e-3\n",
    "lockin.ref.sine_out_offset = 0.0"
   ]
  },
  {
   "cell_type": "code",
   "execution_count": 61,
   "metadata": {},
   "outputs": [],
   "source": [
    "# Configure the Input Range, Sensitivity\n",
    "lockin.signal.voltage_input_range = 0.1"
   ]
  },
  {
   "cell_type": "code",
   "execution_count": 62,
   "metadata": {},
   "outputs": [
    {
     "name": "stdout",
     "output_type": "stream",
     "text": [
      "Tc = 0.1 s\n",
      "Time/measurement = 0.5 s\n"
     ]
    }
   ],
   "source": [
    "# Configure the Time Constant and Filters\n",
    "set_time_constant(f_signal, 40)\n",
    "\n",
    "lockin.signal.filter_slope = 6\n",
    "lockin.signal.advanced_filter = 'off'\n",
    "\n",
    "# Time to settle within 1% of final value can be viewed on pg 157 of the Operation Manual\n",
    "wait_time_s = 5*lockin.signal.time_constant\n",
    "print(f'Time/measurement = {wait_time_s} s')"
   ]
  },
  {
   "cell_type": "code",
   "execution_count": 63,
   "metadata": {},
   "outputs": [],
   "source": [
    "lockin.data.channel_config[0] = 'X'\n",
    "lockin.data.channel_config[1] =  'Y'\n",
    "lockin.data.channel_config[2] = 'R'\n",
    "lockin.data.channel_config[3] = 'Theta'"
   ]
  },
  {
   "cell_type": "markdown",
   "metadata": {},
   "source": [
    "## Perform the scan"
   ]
  },
  {
   "cell_type": "code",
   "execution_count": 64,
   "metadata": {},
   "outputs": [
    {
     "name": "stdout",
     "output_type": "stream",
     "text": [
      "Expected total measurement time = 50.0 s\n"
     ]
    }
   ],
   "source": [
    "offset = np.linspace(-1, 1, num=100)\n",
    "X = []\n",
    "Y = []\n",
    "R = []\n",
    "Theta = []\n",
    "\n",
    "# Start with the initial dc offset:\n",
    "lockin.ref.sine_out_offset = offset[0]\n",
    "sleep(10*wait_time_s)\n",
    "\n",
    "print(f'Expected total measurement time = {wait_time_s*len(offset)} s')\n",
    "\n",
    "for vdc in offset:\n",
    "    lockin.ref.sine_out_offset = vdc\n",
    "    sleep(wait_time_s)\n",
    "    x, y, r, t = lockin.data.get_channel_values()\n",
    "    X.append(x)\n",
    "    Y.append(y)\n",
    "    R.append(r)\n",
    "    Theta.append(t)"
   ]
  },
  {
   "cell_type": "markdown",
   "metadata": {},
   "source": [
    "## Plot the results"
   ]
  },
  {
   "cell_type": "code",
   "execution_count": 65,
   "metadata": {},
   "outputs": [
    {
     "data": {
      "text/plain": [
       "<matplotlib.legend.Legend at 0x2bd22f751d0>"
      ]
     },
     "execution_count": 65,
     "metadata": {},
     "output_type": "execute_result"
    },
    {
     "data": {
      "image/png": "[encoded data removed]",
      "text/plain": [
       "<Figure size 640x480 with 1 Axes>"
      ]
     },
     "metadata": {},
     "output_type": "display_data"
    }
   ],
   "source": [
    "plt.plot(offset, X, label='X')\n",
    "plt.plot(offset, Y, label='Y')\n",
    "plt.xlabel('Sine Out DC Offset (V)')\n",
    "plt.ylabel('measured voltage (V)')\n",
    "plt.legend()"
   ]
  },
  {
   "cell_type": "code",
   "execution_count": null,
   "metadata": {},
   "outputs": [],
   "source": []
  }
 ],
 "metadata": {
  "kernelspec": {
   "display_name": "venv",
   "language": "python",
   "name": "python3"
  },
  "language_info": {
   "codemirror_mode": {
    "name": "ipython",
    "version": 3
   },
   "file_extension": ".py",
   "mimetype": "text/x-python",
   "name": "python",
   "nbconvert_exporter": "python",
   "pygments_lexer": "ipython3",
   "version": "3.11.2"
  },
  "orig_nbformat": 4
 },
 "nbformat": 4,
 "nbformat_minor": 2
}
